{
 "cells": [
  {
   "cell_type": "code",
   "execution_count": 1,
   "id": "initial_id",
   "metadata": {
    "collapsed": true,
    "ExecuteTime": {
     "end_time": "2024-01-26T13:21:36.159788Z",
     "start_time": "2024-01-26T13:21:36.140019800Z"
    }
   },
   "outputs": [
    {
     "name": "stdout",
     "output_type": "stream",
     "text": [
      "reduce the weight\n"
     ]
    }
   ],
   "source": [
    "class Stock:\n",
    "    def __init__(self,name,weight,macd,rsi):\n",
    "        self.name=name\n",
    "        self.weight=weight\n",
    "        self.macd=macd\n",
    "        self.rsi=rsi\n",
    "class TecIndicator(Stock):  \n",
    "    def decision(self):\n",
    "        if self.macd>0 and self.rsi>70:\n",
    "            return 'reduce the weight'\n",
    "        elif self.macd<0 and self.rsi<70:\n",
    "            return 'Increase the weight'\n",
    "        else:\n",
    "            return 'Hold'\n",
    "t=TecIndicator('Apple.Inc',0.3,30,85)\n",
    "print(t.decision())"
   ]
  }
 ],
 "metadata": {
  "kernelspec": {
   "display_name": "Python 3",
   "language": "python",
   "name": "python3"
  },
  "language_info": {
   "codemirror_mode": {
    "name": "ipython",
    "version": 2
   },
   "file_extension": ".py",
   "mimetype": "text/x-python",
   "name": "python",
   "nbconvert_exporter": "python",
   "pygments_lexer": "ipython2",
   "version": "2.7.6"
  }
 },
 "nbformat": 4,
 "nbformat_minor": 5
}
